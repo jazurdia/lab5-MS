{
 "cells": [
  {
   "cell_type": "code",
   "execution_count": 1,
   "metadata": {},
   "outputs": [],
   "source": [
    "import numpy as np\n",
    "\n",
    "capital_cost_rate = 0.1\n",
    "iterations_list = [100, 1000, 10000]"
   ]
  },
  {
   "cell_type": "code",
   "execution_count": 2,
   "metadata": {},
   "outputs": [],
   "source": [
    "def calculate_vpn(flows, discount_rate):\n",
    "    return np.sum(flows / (1 + discount_rate) ** np.arange(len(flows)))"
   ]
  },
  {
   "cell_type": "code",
   "execution_count": 3,
   "metadata": {},
   "outputs": [],
   "source": [
    "def simulate_hotel_project(iterations):\n",
    "    vpns = []\n",
    "    for _ in range(iterations):\n",
    "        flows = np.array([\n",
    "            -800,\n",
    "            np.random.normal(-800, 50),\n",
    "            np.random.normal(-800, 100),\n",
    "            np.random.normal(-700, 150),\n",
    "            np.random.normal(300, 200),\n",
    "            np.random.normal(400, 200),\n",
    "            np.random.normal(500, 200),\n",
    "            np.random.uniform(200, 8440)\n",
    "        ])\n",
    "        vpn = calculate_vpn(flows, capital_cost_rate)\n",
    "        vpns.append(vpn)\n",
    "    return vpns"
   ]
  },
  {
   "cell_type": "code",
   "execution_count": 4,
   "metadata": {},
   "outputs": [],
   "source": [
    "def simulate_commercial_project(iterations):\n",
    "    vpns = []\n",
    "    for _ in range(iterations):\n",
    "        flows = np.array([\n",
    "            -900,\n",
    "            np.random.normal(-600, 50),\n",
    "            np.random.normal(-200, 50),\n",
    "            np.random.normal(-600, 100),\n",
    "            np.random.normal(250, 150),\n",
    "            np.random.normal(350, 150),\n",
    "            np.random.normal(400, 150),\n",
    "            np.random.uniform(1600, 6000)\n",
    "        ])\n",
    "        vpn = calculate_vpn(flows, capital_cost_rate)\n",
    "        vpns.append(vpn)\n",
    "    return vpns"
   ]
  },
  {
   "cell_type": "code",
   "execution_count": 5,
   "metadata": {},
   "outputs": [
    {
     "name": "stdout",
     "output_type": "stream",
     "text": [
      "\n",
      "Resultados para 100 iteraciones:\n",
      "Proyecto Hotel: VPN medio = 119.79, Desviación estándar = 1338.49\n",
      "Proyecto Centro Comercial: VPN medio = 501.29, Desviación estándar = 757.56\n",
      "El Proyecto Centro Comercial es más rentable.\n",
      "\n",
      "Resultados para 1000 iteraciones:\n",
      "Proyecto Hotel: VPN medio = 149.16, Desviación estándar = 1237.53\n",
      "Proyecto Centro Comercial: VPN medio = 516.28, Desviación estándar = 681.91\n",
      "El Proyecto Centro Comercial es más rentable.\n",
      "\n",
      "Resultados para 10000 iteraciones:\n",
      "Proyecto Hotel: VPN medio = 264.16, Desviación estándar = 1244.19\n",
      "Proyecto Centro Comercial: VPN medio = 509.26, Desviación estándar = 679.19\n",
      "El Proyecto Centro Comercial es más rentable.\n"
     ]
    }
   ],
   "source": [
    "for iterations in iterations_list:\n",
    "    hotel_vpns = simulate_hotel_project(iterations)\n",
    "    commercial_vpns = simulate_commercial_project(iterations)\n",
    "    \n",
    "    print(f\"\\nResultados para {iterations} iteraciones:\")\n",
    "    print(f\"Proyecto Hotel: VPN medio = {np.mean(hotel_vpns):.2f}, Desviación estándar = {np.std(hotel_vpns):.2f}\")\n",
    "    print(f\"Proyecto Centro Comercial: VPN medio = {np.mean(commercial_vpns):.2f}, Desviación estándar = {np.std(commercial_vpns):.2f}\")\n",
    "    \n",
    "    if np.mean(hotel_vpns) > np.mean(commercial_vpns):\n",
    "        print(\"El Proyecto Hotel es más rentable.\")\n",
    "    else:\n",
    "        print(\"El Proyecto Centro Comercial es más rentable.\")"
   ]
  },
  {
   "cell_type": "markdown",
   "metadata": {},
   "source": [
    "En general el proyecto de centro comercial es más rentable."
   ]
  }
 ],
 "metadata": {
  "kernelspec": {
   "display_name": "Python 3",
   "language": "python",
   "name": "python3"
  },
  "language_info": {
   "codemirror_mode": {
    "name": "ipython",
    "version": 3
   },
   "file_extension": ".py",
   "mimetype": "text/x-python",
   "name": "python",
   "nbconvert_exporter": "python",
   "pygments_lexer": "ipython3",
   "version": "3.11.6"
  }
 },
 "nbformat": 4,
 "nbformat_minor": 2
}
